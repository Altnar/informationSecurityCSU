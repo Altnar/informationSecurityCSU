{
 "cells": [
  {
   "cell_type": "markdown",
   "metadata": {},
   "source": [
    "**Задание 1**"
   ]
  },
  {
   "cell_type": "code",
   "execution_count": 50,
   "metadata": {},
   "outputs": [],
   "source": [
    "inputData = \"49276d207374756479696e672043727970746f677261706879206c696b6520436c6175646520456c776f6f64205368616e6e6f6e21\"\n",
    "\n",
    "excpectedResult = \"SSdtIHN0dWR5aW5nIENyeXB0b2dyYXBoeSBsaWtlIENsYXVkZSBFbHdvb2QgU2hhbm5vbiE=\""
   ]
  },
  {
   "cell_type": "markdown",
   "metadata": {},
   "source": [
    "Разделяем входные данные на отдельные числа"
   ]
  },
  {
   "cell_type": "code",
   "execution_count": 54,
   "metadata": {},
   "outputs": [],
   "source": [
    "hexArray = list()\n",
    "for i in range(0, len(inputData), 2):\n",
    "    hexArray.append(int(inputData[i:i+2],16))"
   ]
  },
  {
   "cell_type": "markdown",
   "metadata": {},
   "source": [
    "Декодирум в английские символы"
   ]
  },
  {
   "cell_type": "code",
   "execution_count": 52,
   "metadata": {},
   "outputs": [
    {
     "data": {
      "text/plain": [
       "\"I'm studying Cryptography like Claude Elwood Shannon!\""
      ]
     },
     "execution_count": 52,
     "metadata": {},
     "output_type": "execute_result"
    }
   ],
   "source": [
    "text = \"\"\n",
    "for hx in hexArray:\n",
    "    text += chr(hx)\n",
    "text"
   ]
  },
  {
   "cell_type": "markdown",
   "metadata": {},
   "source": [
    "Конвертируем в base64"
   ]
  },
  {
   "cell_type": "code",
   "execution_count": 53,
   "metadata": {},
   "outputs": [
    {
     "data": {
      "text/plain": [
       "b'SSdtIHN0dWR5aW5nIENyeXB0b2dyYXBoeSBsaWtlIENsYXVkZSBFbHdvb2QgU2hhbm5vbiE='"
      ]
     },
     "execution_count": 53,
     "metadata": {},
     "output_type": "execute_result"
    }
   ],
   "source": [
    "result = base64.b64encode(text.encode('ASCII'))\n",
    "result"
   ]
  },
  {
   "cell_type": "markdown",
   "metadata": {},
   "source": [
    "**Задание 2**"
   ]
  },
  {
   "cell_type": "code",
   "execution_count": 56,
   "metadata": {},
   "outputs": [],
   "source": [
    "inputData1 = \"506561636520416c6c204f7665722054686520576f726c64\"\n",
    "inputData2 = \"4949544353551c0111001f010100061a021f010100061a02\"\n",
    "expectedResult = \"192C352036755D6D7D2050776472264E6A7A21566F747666\""
   ]
  },
  {
   "cell_type": "markdown",
   "metadata": {},
   "source": [
    "Разделяем входные данные на отдельные числа"
   ]
  },
  {
   "cell_type": "code",
   "execution_count": 72,
   "metadata": {},
   "outputs": [],
   "source": [
    "hexArray1 = list()\n",
    "hexArray2 = list()\n",
    "for i in range(0, len(inputData1), 2):\n",
    "    hexArray1.append(int(inputData1[i:i+2],16))\n",
    "\n",
    "for i in range(0, len(inputData2), 2):\n",
    "    hexArray2.append(int(inputData2[i:i+2],16))"
   ]
  },
  {
   "cell_type": "markdown",
   "metadata": {},
   "source": [
    "Проводим операцию XOR между массивами и записываем результат в текст"
   ]
  },
  {
   "cell_type": "code",
   "execution_count": 74,
   "metadata": {},
   "outputs": [
    {
     "data": {
      "text/plain": [
       "'192C352036755D6D7D2050776472264E6A7A21566F747666'"
      ]
     },
     "execution_count": 74,
     "metadata": {},
     "output_type": "execute_result"
    }
   ],
   "source": [
    "result = \"\"\n",
    "for i in range(len(hexArray1)):\n",
    "    result += f'{hexArray1[i] ^ hexArray2[i]:x}'\n",
    "result.upper()"
   ]
  },
  {
   "cell_type": "markdown",
   "metadata": {},
   "source": [
    "**Задание 3**"
   ]
  },
  {
   "cell_type": "code",
   "execution_count": 140,
   "metadata": {},
   "outputs": [],
   "source": [
    "inputData = '19367831362e3d2b2c353d362c783136783336372f343d3c3f3d7839342f39212b782839212b782c303d783a3d2b2c7831362c3d2a3d2b2c'"
   ]
  },
  {
   "cell_type": "markdown",
   "metadata": {},
   "source": [
    "Самые популярные символы в английском: t, e, пробел"
   ]
  },
  {
   "cell_type": "code",
   "execution_count": 141,
   "metadata": {},
   "outputs": [],
   "source": [
    "tCode = 0x74\n",
    "eCode = 0x65\n",
    "spaceCode = 0x20"
   ]
  },
  {
   "cell_type": "markdown",
   "metadata": {},
   "source": [
    "Разделяем входные данные на отдельные числа"
   ]
  },
  {
   "cell_type": "code",
   "execution_count": 142,
   "metadata": {},
   "outputs": [],
   "source": [
    "hexArray = list()\n",
    "for i in range(0, len(inputData), 2):\n",
    "    hexArray.append(int(inputData[i:i+2],16))"
   ]
  },
  {
   "cell_type": "markdown",
   "metadata": {},
   "source": [
    "Находим самое популярное число"
   ]
  },
  {
   "cell_type": "code",
   "execution_count": 143,
   "metadata": {},
   "outputs": [],
   "source": [
    "keyHex = Counter(hexArray).most_common(1)[0][0]"
   ]
  },
  {
   "cell_type": "markdown",
   "metadata": {},
   "source": [
    "Проверяем ключ на всех символах"
   ]
  },
  {
   "cell_type": "code",
   "execution_count": 144,
   "metadata": {},
   "outputs": [
    {
     "name": "stdout",
     "output_type": "stream",
     "text": [
      "\u0015:t=:\"1' 91: t=:t?:;#81031t58#5-'t$5-'t <1t61' t=: 1&1' \n"
     ]
    }
   ],
   "source": [
    "key = keyHex ^ tCode\n",
    "result = \"\"\n",
    "for hx in hexArray:\n",
    "    result += chr(hx ^ key)\n",
    "print(result)"
   ]
  },
  {
   "cell_type": "code",
   "execution_count": 145,
   "metadata": {},
   "outputs": [
    {
     "name": "stdout",
     "output_type": "stream",
     "text": [
      "\u0004+e,+3 61( +1e,+e.+*2) !\" e$)2$<6e5$<6e1- e' 61e,+1 7 61\n"
     ]
    }
   ],
   "source": [
    "key = keyHex ^ eCode\n",
    "result = \"\"\n",
    "for hx in hexArray:\n",
    "    result += chr(hx ^ key)\n",
    "print(result)"
   ]
  },
  {
   "cell_type": "code",
   "execution_count": 146,
   "metadata": {},
   "outputs": [
    {
     "name": "stdout",
     "output_type": "stream",
     "text": [
      "An investment in knowledge always pays the best interest\n"
     ]
    }
   ],
   "source": [
    "key = keyHex ^ spaceCode\n",
    "result = \"\"\n",
    "for hx in hexArray:\n",
    "    result += chr(hx ^ key)\n",
    "print(result)"
   ]
  },
  {
   "cell_type": "markdown",
   "metadata": {},
   "source": [
    "**Задание 4**\n"
   ]
  },
  {
   "cell_type": "code",
   "execution_count": 40,
   "metadata": {},
   "outputs": [],
   "source": [
    "import os\n",
    "import re"
   ]
  },
  {
   "cell_type": "markdown",
   "metadata": {},
   "source": [
    "Файл task140"
   ]
  },
  {
   "cell_type": "code",
   "execution_count": 41,
   "metadata": {},
   "outputs": [],
   "source": [
    "file = open('data/task140.input')\n",
    "encodedText = file.read()\n",
    "file.close()\n",
    "encodedText = encodedText.split('\\n')"
   ]
  },
  {
   "cell_type": "code",
   "execution_count": 42,
   "metadata": {},
   "outputs": [
    {
     "name": "stdout",
     "output_type": "stream",
     "text": [
      "Kakim umnym ja sebja chuvstvuu\n"
     ]
    }
   ],
   "source": [
    "for hexLine in encodedText:\n",
    "    if len(hexLine) == 0:\n",
    "        continue\n",
    "    _compile = re.compile(u\"[^a-zA-ZА-Яа-я ?!-.',]\")\n",
    "    for hexKey in range(256):\n",
    "        decodedLine = \"\"\n",
    "        for hx in range(0, len(hexLine), 2):\n",
    "            xorLine = \"\"\n",
    "            xorLine += f'{int(hexLine[hx:hx + 2], 16) ^ int(f\"{hexKey:x}\", 16):x}'\n",
    "            for i in range(0, len(xorLine), 2):\n",
    "                decodedLine += chr(int(xorLine[i:i + 2], 16))\n",
    "        decodedLine = decodedLine.replace('\\t', '').replace('\\n', '')\n",
    "        compiledLine = _compile.sub('', decodedLine).replace('#', '').replace('(', '').replace(')', '')\n",
    "        if decodedLine == compiledLine:\n",
    "            print(compiledLine)"
   ]
  },
  {
   "cell_type": "markdown",
   "metadata": {},
   "source": [
    "Файл task141"
   ]
  },
  {
   "cell_type": "code",
   "execution_count": 43,
   "metadata": {},
   "outputs": [],
   "source": [
    "file = open('data/task141.input')\n",
    "encodedText = file.read()\n",
    "file.close()\n",
    "encodedText = encodedText.split('\\n')"
   ]
  },
  {
   "cell_type": "code",
   "execution_count": 44,
   "metadata": {},
   "outputs": [
    {
     "name": "stdout",
     "output_type": "stream",
     "text": [
      "Now that the party is jumping\n"
     ]
    }
   ],
   "source": [
    "for hexLine in encodedText:\n",
    "    if len(hexLine) == 0:\n",
    "        continue\n",
    "    _compile = re.compile(u\"[^a-zA-ZА-Яа-я ?!-.',]\")\n",
    "    for hexKey in range(256):\n",
    "        decodedLine = \"\"\n",
    "        for hx in range(0, len(hexLine), 2):\n",
    "            xorLine = \"\"\n",
    "            xorLine += f'{int(hexLine[hx:hx + 2], 16) ^ int(f\"{hexKey:x}\", 16):x}'\n",
    "            for i in range(0, len(xorLine), 2):\n",
    "                decodedLine += chr(int(xorLine[i:i + 2], 16))\n",
    "        decodedLine = decodedLine.replace('\\t', '').replace('\\n', '')\n",
    "        compiledLine = _compile.sub('', decodedLine).replace('#', '').replace('(', '').replace(')', '')\n",
    "        if decodedLine == compiledLine:\n",
    "            print(compiledLine)"
   ]
  },
  {
   "cell_type": "markdown",
   "metadata": {},
   "source": [
    "Файл task142"
   ]
  },
  {
   "cell_type": "code",
   "execution_count": 45,
   "metadata": {},
   "outputs": [],
   "source": [
    "file = open('data/task142.input')\n",
    "encodedText = file.read()\n",
    "file.close()\n",
    "encodedText = encodedText.split('\\n')"
   ]
  },
  {
   "cell_type": "code",
   "execution_count": 46,
   "metadata": {},
   "outputs": [
    {
     "name": "stdout",
     "output_type": "stream",
     "text": [
      "Kakim umnym ja sebja chuvstvuu\n",
      "ndon, Capital of Great Britain\n"
     ]
    }
   ],
   "source": [
    "for hexLine in encodedText:\n",
    "    if len(hexLine) == 0:\n",
    "        continue\n",
    "    _compile = re.compile(u\"[^a-zA-ZА-Яа-я ?!-.',]\")\n",
    "    for hexKey in range(256):\n",
    "        decodedLine = \"\"\n",
    "        for hx in range(0, len(hexLine), 2):\n",
    "            xorLine = \"\"\n",
    "            xorLine += f'{int(hexLine[hx:hx + 2], 16) ^ int(f\"{hexKey:x}\", 16):x}'\n",
    "            for i in range(0, len(xorLine), 2):\n",
    "                decodedLine += chr(int(xorLine[i:i + 2], 16))\n",
    "        decodedLine = decodedLine.replace('\\t', '').replace('\\n', '')\n",
    "        compiledLine = _compile.sub('', decodedLine).replace('#', '').replace('(', '').replace(')', '')\n",
    "        if decodedLine == compiledLine:\n",
    "            print(compiledLine)"
   ]
  },
  {
   "cell_type": "markdown",
   "metadata": {},
   "source": [
    "**Задание 5**"
   ]
  },
  {
   "cell_type": "code",
   "execution_count": 90,
   "metadata": {},
   "outputs": [],
   "source": [
    "expectedResult = \"00000000000000730b0e001a1d07311d150b0a4f1a3c4815060b4f083a0d0d0a4e0008730b13171e1b0f3d090d171d061d730e0e1c4e010f27010e000f034e370d070b001c0b730c141c070109733f0e1c020b4e0409134e272642736208000d031b37010f094e07072048030f1d060d731f0e1c054f013d4802010a0a0c210d000507010973090f0a4e1c0b301d130b4e1b0b3f0d020103021b3d01020f1a06013d1b4f\""
   ]
  },
  {
   "cell_type": "code",
   "execution_count": 227,
   "metadata": {},
   "outputs": [
    {
     "name": "stdout",
     "output_type": "stream",
     "text": [
      "165 165\n"
     ]
    }
   ],
   "source": [
    "file = open('data/task15.input')\n",
    "encodedText = file.read()\n",
    "file.close()\n",
    "charList = [char for char in encodedText]\n",
    "hexArrayText = list()\n",
    "for char in charList:\n",
    "    hx = hex(ord(char))[2:]\n",
    "    if len(hx) == 1:\n",
    "        hx = '0' + hx\n",
    "    hexArrayText.append(hx)\n",
    "\n",
    "encodedKey = \"Shannon\"\n",
    "hexArrayKey = list()\n",
    "charList = [char for char in encodedKey]\n",
    "for char in charList:\n",
    "    hx = hex(ord(char))[2:]\n",
    "    if len(hx) == 1:\n",
    "        hx = '0' + hx\n",
    "    hexArrayKey.append(hx)\n",
    "\n",
    "sizeDifference = round((len(hexArrayText) / len(hexArrayKey)))\n",
    "hexArrayKey = (hexArrayKey * sizeDifference)[:len(hexArrayText)]\n",
    "print(len(hexArrayText), len(hexArrayKey))"
   ]
  },
  {
   "cell_type": "code",
   "execution_count": 224,
   "metadata": {},
   "outputs": [
    {
     "data": {
      "text/plain": [
       "'00000000000000730b0e001a1d07311d150b0a4f1a3c4815060b4f083a0d0d0a4e0008730b13171e1b0f3d090d171d061d730e0e1c4e010f27010e000f034e370d070b001c0b730c141c070109733f0e1c020b4e0409134e272642736208000d031b37010f094e07072048030f1d060d731f0e1c054f013d4802010a0a0c210d000507010973090f0a4e1c0b301d130b4e1b0b3f0d020103021b3d01020f1a06013d1b4f'"
      ]
     },
     "execution_count": 224,
     "metadata": {},
     "output_type": "execute_result"
    }
   ],
   "source": [
    "result = \"\"\n",
    "for i in range(len(hexArrayText) - 1):\n",
    "    hx = f'{int(hexArrayText[i], 16) ^ int(hexArrayKey[i], 16):x}'\n",
    "    if len(hx) == 1:\n",
    "        hx = '0' + hx\n",
    "    result += hx\n",
    "result"
   ]
  },
  {
   "cell_type": "code",
   "execution_count": 225,
   "metadata": {},
   "outputs": [
    {
     "data": {
      "text/plain": [
       "True"
      ]
     },
     "execution_count": 225,
     "metadata": {},
     "output_type": "execute_result"
    }
   ],
   "source": [
    "expectedResult == result"
   ]
  },
  {
   "cell_type": "markdown",
   "metadata": {},
   "source": [
    "**Задание 6**"
   ]
  },
  {
   "cell_type": "code",
   "execution_count": 13,
   "metadata": {},
   "outputs": [],
   "source": [
    "import os\n",
    "import re\n",
    "import base64\n",
    "\n",
    "file = open('task16.input')\n",
    "encodedText = file.read()\n",
    "file.close()\n",
    "\n",
    "base64Text = base64.b64decode(encodedText)\n",
    "_compile = re.compile(\"[^a-zA-ZА-Яа-я0-9\\v\\n\\t\\- ?!_.,:;']\")"
   ]
  },
  {
   "cell_type": "code",
   "execution_count": 14,
   "metadata": {},
   "outputs": [
    {
     "name": "stdout",
     "output_type": "stream",
     "text": [
      "How dark, how quiet sleeps the vale below!\n",
      "In the dim farms, look, not a window shines:\n",
      "Distantly heard among the lonely pines,\n",
      "How soft the languid autumn breezes flow\n",
      "Past me, and kiss my hair, and cheek, and mouth!\n",
      "Half--veiled is the calm sky:\n",
      "Jupiter's kingly eye\n",
      "Alone glows full in the unclouded South.\n",
      "\n",
      "Alas! and can sweet Night avail to heal\n",
      "Not one of the world's wounds? Must I, even here,\n",
      "Still listen with the mind's too wakeful ear\n",
      "To that sad sound, which in my flesh I feel;\n",
      "Sound of unresting, unrejoicing feet,\n",
      "With feverish steps or slow\n",
      "For ever, to and fro,\n",
      "Pacing the gay, thronged, friendless, stony street?\n",
      "\n",
      "Nature is free; but Man the eternal slave\n",
      "Of care and passion. Must I deem that true?\n",
      "With fields and quiet have we nought to do,\n",
      "Because our spirits for ever crave and crave,\n",
      "And never found their satisfaction yet?\n",
      "World, is thy heart so cold,\n",
      "So deeply weary and old,\n",
      "That thy sole business is but to forget?\n",
      "\n",
      "No, no! these perfect trees, with whispering voice,\n",
      "These flowers, that have to thee a solace been,\n",
      "And yet an alien solace, so serene\n",
      "They live, and in their life seem to rejoice;\n",
      "Life how unlike to thine! These flowers, these trees,\n",
      "Are children of one birth\n",
      "With thee, O Man; as Earth,\n",
      "Earth, still so fair, for all thy ravages,\n",
      "\n",
      "Is sister to yon radiant Jupiter,\n",
      "Who with such glorious and untroubled gaze\n",
      "Upon his own course burning down Heaven's ways\n",
      "Across deep seas of darkness looks at her!\n",
      "Perchance in his vast bosom he, too, keeps\n",
      "Like ferment, like distress;\n",
      "Yet tranquil shines not less,\n",
      "Lord of the night, that round his splendour sleeps.\n"
     ]
    }
   ],
   "source": [
    "for keyLengh in range(2, 256):\n",
    "    lines = list()\n",
    "    for i in range(1, keyLengh + 1):\n",
    "        lines.append(base64Text[i - 1::keyLengh])\n",
    "\n",
    "    keyList = list()\n",
    "    for line in lines:\n",
    "\n",
    "        rightKeys = \"\"\n",
    "        for key in range(0, 128):\n",
    "\n",
    "            keyArray = ([key] * len(line))\n",
    "\n",
    "            xrs = \"\"\n",
    "            for i in range(len(line)):\n",
    "                hx = line[i] ^ keyArray[i]\n",
    "                xrs += chr(hx)\n",
    "\n",
    "            compiled = _compile.sub('', xrs)\n",
    "            if len(compiled) == len(line):\n",
    "                rightKeys += chr(key)\n",
    "\n",
    "        if rightKeys:\n",
    "            keyList.append(rightKeys)\n",
    "\n",
    "    if len(keyList) == keyLengh:\n",
    "        fullKey = list()\n",
    "        for key in keyList:\n",
    "            fullKey.append(ord(key))\n",
    "\n",
    "        sizeDifference = round((len(base64Text) / len(fullKey)))\n",
    "        hexArrayKey = (fullKey * sizeDifference)\n",
    "\n",
    "        xrs = \"\"\n",
    "        for i in range(len(base64Text)):\n",
    "            hx = base64Text[i] ^ hexArrayKey[i]\n",
    "            xrs += chr(hx)\n",
    "\n",
    "        print(xrs)\n",
    "        break"
   ]
  },
  {
   "cell_type": "code",
   "execution_count": null,
   "metadata": {},
   "outputs": [],
   "source": []
  }
 ],
 "metadata": {
  "kernelspec": {
   "display_name": "Python 3",
   "language": "python",
   "name": "python3"
  },
  "language_info": {
   "codemirror_mode": {
    "name": "ipython",
    "version": 3
   },
   "file_extension": ".py",
   "mimetype": "text/x-python",
   "name": "python",
   "nbconvert_exporter": "python",
   "pygments_lexer": "ipython3",
   "version": "3.8.3"
  }
 },
 "nbformat": 4,
 "nbformat_minor": 4
}
